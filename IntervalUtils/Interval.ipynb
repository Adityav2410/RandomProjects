{
 "cells": [
  {
   "cell_type": "code",
   "execution_count": 1,
   "metadata": {},
   "outputs": [],
   "source": [
    "import math\n",
    "import copy\n",
    "from pdb import set_trace as bp"
   ]
  },
  {
   "cell_type": "code",
   "execution_count": 2,
   "metadata": {},
   "outputs": [],
   "source": [
    "class Interval:\n",
    "    \n",
    "    def __init__(self, start = 0, end = 0):\n",
    "        self.intervalList = []\n",
    "        self.intervalList.append([start,end])\n",
    "    \n",
    "    def __mergeIntervals__(self, intervalList):\n",
    "        mergeList = []\n",
    "        intervalList.sort( key = lambda interval : interval[0] , reverse = False )\n",
    "        for index, interval in enumerate(intervalList):\n",
    "            if( index == 0 ):\n",
    "                mergeList.append(interval)\n",
    "            else:\n",
    "                currInterval = mergeList[-1]\n",
    "                if( interval[0] < currInterval[1] ):\n",
    "                    mergeList[-1][1] = max( currInterval[1], interval[1] )\n",
    "                else:\n",
    "                    mergeList.append(interval)\n",
    "        return mergeList\n",
    "    \n",
    "    def __add__(self, intervalObj2):\n",
    "        mergeList = self.__mergeIntervals__(self.intervalList + intervalObj2.intervalList)\n",
    "        addedInterval = Interval();\n",
    "        addedInterval.intervalList = mergeList\n",
    "        return addedInterval;\n",
    "            \n",
    "    def __str__(self):\n",
    "        if( len(self.intervalList) == 1 ) :\n",
    "            return \"Interval\" + str( tuple(self.intervalList[0]) )\n",
    "        else:\n",
    "            s = \"[\"\n",
    "            for interval in self.intervalList:\n",
    "                s = s + \"Interval\" + str( tuple(interval) )+ \",\\t\"\n",
    "            s = s[:-2] + \"]\"\n",
    "            return s\n",
    "    \n",
    "    def __repr__(self):\n",
    "        return self.__str__()"
   ]
  },
  {
   "cell_type": "markdown",
   "metadata": {},
   "source": [
    "## Intervals "
   ]
  },
  {
   "cell_type": "code",
   "execution_count": 3,
   "metadata": {},
   "outputs": [
    {
     "data": {
      "text/plain": [
       "Interval(1, 5)"
      ]
     },
     "execution_count": 3,
     "metadata": {},
     "output_type": "execute_result"
    }
   ],
   "source": [
    "Interval(1,5)"
   ]
  },
  {
   "cell_type": "code",
   "execution_count": 4,
   "metadata": {},
   "outputs": [
    {
     "data": {
      "text/plain": [
       "[Interval(1, 4),\tInterval(5, 10)]"
      ]
     },
     "execution_count": 4,
     "metadata": {},
     "output_type": "execute_result"
    }
   ],
   "source": [
    "Interval(1,4) + Interval(5,10)"
   ]
  },
  {
   "cell_type": "code",
   "execution_count": 5,
   "metadata": {},
   "outputs": [
    {
     "data": {
      "text/plain": [
       "Interval(1, 10)"
      ]
     },
     "execution_count": 5,
     "metadata": {},
     "output_type": "execute_result"
    }
   ],
   "source": [
    "Interval(1,4) + Interval(3,10)"
   ]
  },
  {
   "cell_type": "code",
   "execution_count": 6,
   "metadata": {},
   "outputs": [
    {
     "data": {
      "text/plain": [
       "[Interval(1, 7),\tInterval(12, 19)]"
      ]
     },
     "execution_count": 6,
     "metadata": {},
     "output_type": "execute_result"
    }
   ],
   "source": [
    "Interval(1,5) + Interval(3,7) + Interval(12,19)"
   ]
  },
  {
   "cell_type": "code",
   "execution_count": 7,
   "metadata": {},
   "outputs": [
    {
     "data": {
      "text/plain": [
       "Interval(1, 19)"
      ]
     },
     "execution_count": 7,
     "metadata": {},
     "output_type": "execute_result"
    }
   ],
   "source": [
    "Interval(1,5) + Interval(3,7) + Interval(12,19) + Interval(2,14)"
   ]
  },
  {
   "cell_type": "code",
   "execution_count": 8,
   "metadata": {},
   "outputs": [
    {
     "data": {
      "text/plain": [
       "Interval(-1, 27)"
      ]
     },
     "execution_count": 8,
     "metadata": {},
     "output_type": "execute_result"
    }
   ],
   "source": [
    "Interval(1,5) + Interval(3,7) + Interval(12,19) + Interval(-1,27)"
   ]
  }
 ],
 "metadata": {
  "kernelspec": {
   "display_name": "Python 2",
   "language": "python",
   "name": "python2"
  },
  "language_info": {
   "codemirror_mode": {
    "name": "ipython",
    "version": 2
   },
   "file_extension": ".py",
   "mimetype": "text/x-python",
   "name": "python",
   "nbconvert_exporter": "python",
   "pygments_lexer": "ipython2",
   "version": "2.7.12"
  }
 },
 "nbformat": 4,
 "nbformat_minor": 2
}
