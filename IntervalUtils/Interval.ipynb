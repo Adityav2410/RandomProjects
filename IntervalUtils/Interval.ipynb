{
 "cells": [
  {
   "cell_type": "code",
   "execution_count": 1,
   "metadata": {},
   "outputs": [],
   "source": [
    "import math\n",
    "import copy\n",
    "from pdb import set_trace as bp"
   ]
  },
  {
   "cell_type": "code",
   "execution_count": 2,
   "metadata": {},
   "outputs": [],
   "source": [
    "class Interval:\n",
    "    \n",
    "    def __init__(self, start, end ):\n",
    "        self.start = start\n",
    "        self.end = end\n",
    "    \n",
    "    def __lt__(self,interval2):\n",
    "        return self.start <= interval2.start\n",
    "        \n",
    "    def __add__(self, interval2):\n",
    "        if type(interval2) != list:\n",
    "            intervalList = [interval2]\n",
    "        else:\n",
    "            intervalList = copy.deepcopy(interval2)\n",
    "        intervalList.append(self);\n",
    "        mergeList = Interval.mergeIntervals(intervalList)\n",
    "        return mergeList\n",
    "            \n",
    "    def __str__(self):\n",
    "        return \"Interval(\" + str(self.start) + \",\" + str(self.end) + \")\"   \n",
    "    \n",
    "    def __repr__(self):\n",
    "        return self.__str__()\n",
    "    \n",
    "    \n",
    "    @staticmethod\n",
    "    def mergeIntervals(intervalList):\n",
    "        mergeList = []\n",
    "        intervalList.sort( key = lambda interval : interval.start , reverse = False )\n",
    "        for index, interval in enumerate(intervalList):\n",
    "            if( index == 0 ):\n",
    "                mergeList.append(interval)\n",
    "            else:\n",
    "                currInterval = mergeList[-1]\n",
    "                if( interval.start < currInterval.end ):\n",
    "                    mergeList[-1].end = max( currInterval.end, interval.end )\n",
    "                else:\n",
    "                    mergeList.append(interval)\n",
    "        if len(mergeList) == 1:\n",
    "            return mergeList[0]\n",
    "        else:\n",
    "            return mergeList"
   ]
  },
  {
   "cell_type": "markdown",
   "metadata": {},
   "source": [
    "## Intervals "
   ]
  },
  {
   "cell_type": "code",
   "execution_count": 3,
   "metadata": {},
   "outputs": [],
   "source": [
    "a = Interval(1,4)\n",
    "b = Interval(5,10)\n",
    "c = Interval(4,5)\n",
    "d = Interval(7,12)"
   ]
  },
  {
   "cell_type": "markdown",
   "metadata": {},
   "source": [
    "## Merge two interval - returns a new interval "
   ]
  },
  {
   "cell_type": "code",
   "execution_count": 4,
   "metadata": {},
   "outputs": [
    {
     "data": {
      "text/plain": [
       "Interval(1,7)"
      ]
     },
     "execution_count": 4,
     "metadata": {},
     "output_type": "execute_result"
    }
   ],
   "source": [
    "\n",
    "Interval(1,5) + Interval(3,7)"
   ]
  },
  {
   "cell_type": "markdown",
   "metadata": {},
   "source": [
    "## Merge two intervals  - since intervals do not overlap they both will be appended in a list "
   ]
  },
  {
   "cell_type": "code",
   "execution_count": 5,
   "metadata": {},
   "outputs": [
    {
     "data": {
      "text/plain": [
       "[Interval(1,4), Interval(5,10)]"
      ]
     },
     "execution_count": 5,
     "metadata": {},
     "output_type": "execute_result"
    }
   ],
   "source": [
    "x = b + a\n",
    "x"
   ]
  },
  {
   "cell_type": "markdown",
   "metadata": {},
   "source": [
    "## Merge interval with list of intervals  - this forms a new list of intervals "
   ]
  },
  {
   "cell_type": "code",
   "execution_count": 6,
   "metadata": {},
   "outputs": [
    {
     "name": "stdout",
     "output_type": "stream",
     "text": [
      "[Interval(1,4), Interval(4,5), Interval(5,10)]\n"
     ]
    }
   ],
   "source": [
    "z2 =  c + x \n",
    "print z2"
   ]
  },
  {
   "cell_type": "markdown",
   "metadata": {},
   "source": [
    "## Merge interval with list of intervals  - New list - with some intervals merged "
   ]
  },
  {
   "cell_type": "code",
   "execution_count": 9,
   "metadata": {},
   "outputs": [
    {
     "name": "stdout",
     "output_type": "stream",
     "text": [
      "[Interval(1,4), Interval(4,5), Interval(5,12)]\n"
     ]
    }
   ],
   "source": [
    "z3 = d + z2\n",
    "print z3"
   ]
  },
  {
   "cell_type": "markdown",
   "metadata": {},
   "source": [
    "## Interval + list of interval - > One interval "
   ]
  },
  {
   "cell_type": "code",
   "execution_count": 10,
   "metadata": {},
   "outputs": [
    {
     "name": "stdout",
     "output_type": "stream",
     "text": [
      "Interval(1,12)\n"
     ]
    }
   ],
   "source": [
    "z4 = Interval(3,9) + z3\n",
    "print z4"
   ]
  },
  {
   "cell_type": "markdown",
   "metadata": {},
   "source": [
    "## Merge two list of intervals - returns a merged list "
   ]
  },
  {
   "cell_type": "code",
   "execution_count": null,
   "metadata": {},
   "outputs": [],
   "source": []
  },
  {
   "cell_type": "code",
   "execution_count": 8,
   "metadata": {},
   "outputs": [
    {
     "name": "stdout",
     "output_type": "stream",
     "text": [
      "[Interval(1,4), Interval(4,5), Interval(5,12)]\n"
     ]
    }
   ],
   "source": [
    "l1 = [a, b]\n",
    "l2 = [c, d]\n",
    "print Interval.mergeIntervals( l1 + l2 )"
   ]
  }
 ],
 "metadata": {
  "kernelspec": {
   "display_name": "Python 2",
   "language": "python",
   "name": "python2"
  },
  "language_info": {
   "codemirror_mode": {
    "name": "ipython",
    "version": 2
   },
   "file_extension": ".py",
   "mimetype": "text/x-python",
   "name": "python",
   "nbconvert_exporter": "python",
   "pygments_lexer": "ipython2",
   "version": "2.7.12"
  }
 },
 "nbformat": 4,
 "nbformat_minor": 2
}
